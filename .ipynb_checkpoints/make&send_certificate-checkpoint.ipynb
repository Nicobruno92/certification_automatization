{
 "cells": [
  {
   "cell_type": "markdown",
   "metadata": {},
   "source": [
    "# Dependencies\n",
    "Library to have installed:\n",
    "pillow, pandas, email\n",
    "\n",
    "file utils.py in same folder than this script. "
   ]
  },
  {
   "cell_type": "code",
   "execution_count": 1,
   "metadata": {},
   "outputs": [],
   "source": [
    "from utils import send_mail, eliminate_accents, certificate_maker\n",
    "\n",
    "import pandas as pd"
   ]
  },
  {
   "cell_type": "code",
   "execution_count": 2,
   "metadata": {},
   "outputs": [],
   "source": [
    "%load_ext lab_black"
   ]
  },
  {
   "cell_type": "markdown",
   "metadata": {},
   "source": [
    "# Set path to folders\n",
    "Set the path to the folder containing the necessary files sucha as\n",
    "- the certificate template (always in jpg)   \n",
    "- the student list\n",
    "- font file (if necessary)\n",
    "- folder to save the certificates\n",
    "- etc"
   ]
  },
  {
   "cell_type": "code",
   "execution_count": 3,
   "metadata": {},
   "outputs": [],
   "source": [
    "folder_path = \"Sexta/\"\n",
    "list_path = folder_path + \"lista_alumnos.xlsx\"\n",
    "certificate_folder = folder_path + \"Certificados/\"\n",
    "certificate_template = folder_path + \"Certificados_sexta_psicomeetup.jpg\"\n",
    "font_file = folder_path + \"D-DIN-Bold.ttf\""
   ]
  },
  {
   "cell_type": "markdown",
   "metadata": {},
   "source": [
    "# Read list of students\n",
    "Set the name of the columns with student first name, last name and email"
   ]
  },
  {
   "cell_type": "code",
   "execution_count": 15,
   "metadata": {},
   "outputs": [],
   "source": [
    "student_list = pd.read_excel(list_path)  # read excel files\n",
    "# sudent_list = pd.read_csv(list_path) #read csv files\n",
    "\n",
    "email = \"mail\"\n",
    "first_name = \"Nombre\"\n",
    "last_name = \"Apellido\""
   ]
  },
  {
   "cell_type": "markdown",
   "metadata": {},
   "source": [
    "# Set Certificate parameters \n",
    "- Location of the name on the template\n",
    "- Color of the text\n",
    "- Size of the text\n",
    "- Fonts\n",
    "- etc\n",
    "\n",
    "Finally makes a certificate to see if it's ok"
   ]
  },
  {
   "cell_type": "code",
   "execution_count": 5,
   "metadata": {},
   "outputs": [],
   "source": [
    "# NT colors\n",
    "grey = \"#21201F\"\n",
    "green = \"#9AC529\"\n",
    "lblue = \"#42B9B2\"\n",
    "pink = \"#DE237B\"\n",
    "orange = \"#F38A31\"\n",
    "\n",
    "text_color = grey\n",
    "\n",
    "location_text = (1050, 490)\n",
    "font_size = 63"
   ]
  },
  {
   "cell_type": "code",
   "execution_count": 6,
   "metadata": {},
   "outputs": [],
   "source": [
    "# example certificate\n",
    "certificate_maker(\n",
    "    certificate_template=certificate_template,\n",
    "    student_name=\"Juan Perez\",\n",
    "    text_color=text_color,\n",
    "    location_text=location_text,\n",
    "    font_name=font_file,\n",
    "    text_size=font_size,\n",
    "    save_path=certificate_folder,\n",
    ")"
   ]
  },
  {
   "cell_type": "markdown",
   "metadata": {},
   "source": [
    "# Set email parameters\n",
    "\n",
    "For this it is important to use a throaway email. Because security parameters will complicate everything"
   ]
  },
  {
   "cell_type": "code",
   "execution_count": 7,
   "metadata": {},
   "outputs": [
    {
     "name": "stdin",
     "output_type": "stream",
     "text": [
      "Type your password and press enter:  conelcorazongaba\n"
     ]
    }
   ],
   "source": [
    "subject = \"Test email automatization of certificates\"\n",
    "sender_email = \"noreply.neurotransmitiendo@gmail.com\"\n",
    "password = input(\"Type your password and press enter: \")"
   ]
  },
  {
   "cell_type": "markdown",
   "metadata": {},
   "source": [
    "# Email text\n",
    "\n",
    "What it is in {} is what is going to be replaced afterwards by the name inside the loop function in order to personalize it.\n",
    "\n",
    "The text is in HTML. \n",
    "- In order to end a paragraph add a break \"\\<br>\"\n",
    "- \\<b> - <b> Bold text\n",
    "- \\<strong> <strong> - Important text\n",
    "- \\<i><i> - Italic text\n",
    "- \\<em><em> - Emphasized text\n",
    "- \\<mark><mark> - Marked text\n",
    "- \\<del><del> - Deleted text\n",
    "- \\<ins><ins> - Inserted text\n",
    "- \\<sub><sub> - Subscript text\n",
    "- \\<sup><sup> - Superscript text"
   ]
  },
  {
   "cell_type": "code",
   "execution_count": 8,
   "metadata": {},
   "outputs": [],
   "source": [
    "body = \"\"\"\\\n",
    "            <html>\n",
    "              <body>\n",
    "                <p>\n",
    "                    Hi {name},<br>\n",
    "                    How are you doing?<br>\n",
    "                    This email that you are receiving is a test email to try the automatization of \n",
    "                    creating and sending certificates. <br>\n",
    "\n",
    "                    You can visit our website <a href=\"http://www.neurotransmitiendo.org\">here</a>\n",
    "                </p>\n",
    "              </body>\n",
    "            </html>\n",
    "            \"\"\""
   ]
  },
  {
   "cell_type": "markdown",
   "metadata": {},
   "source": [
    "# Send a test email"
   ]
  },
  {
   "cell_type": "code",
   "execution_count": 9,
   "metadata": {},
   "outputs": [],
   "source": [
    "receiver_email = \"nicobruno92@gmail.com\"\n",
    "attachment = certificate_folder + \"certificado_\" + \"Juan Perez\" + \".pdf\"\n",
    "\n",
    "send_mail(\n",
    "    sender_email=sender_email,\n",
    "    receiver_email=receiver_email,\n",
    "    password=password,\n",
    "    subject=subject,\n",
    "    body=body,\n",
    "    attachment=attachment,\n",
    ")"
   ]
  },
  {
   "cell_type": "markdown",
   "metadata": {},
   "source": [
    "# Create and send the certificate to all students in the list.\n",
    "\n",
    "# <mark>BE CAREFUL! There is no going back!"
   ]
  },
  {
   "cell_type": "code",
   "execution_count": 17,
   "metadata": {},
   "outputs": [],
   "source": [
    "for index, row in student_list.iterrows():\n",
    "\n",
    "    # Information from the list\n",
    "    receiver_email = row[email]\n",
    "\n",
    "    full_name = row[first_name] + \" \" + row[last_name]\n",
    "\n",
    "    # Makes the certificate\n",
    "    certificate_maker(\n",
    "        certificate_template=certificate_template,\n",
    "        student_name=full_name,\n",
    "        text_color=text_color,\n",
    "        location_text=location_text,\n",
    "        font_name=font_file,\n",
    "        text_size=font_size,\n",
    "        save_path=certificate_folder,\n",
    "    )\n",
    "\n",
    "    # PRepares email\n",
    "    body_formatted = body.format(name=first_name)\n",
    "\n",
    "    attachment = (\n",
    "        certificate_folder + \"certificado_\" + eliminate_accents(full_name) + \".pdf\"\n",
    "    )\n",
    "\n",
    "\n",
    "#     print(name, receiver_email, filename,body)\n",
    "#     send_mail(sender_email =sender_email, receiver_email=receiver_email, password = password, subject = subject,body = body_formatted, attachment = attachment)"
   ]
  }
 ],
 "metadata": {
  "kernelspec": {
   "display_name": "Python 3",
   "language": "python",
   "name": "python3"
  },
  "language_info": {
   "codemirror_mode": {
    "name": "ipython",
    "version": 3
   },
   "file_extension": ".py",
   "mimetype": "text/x-python",
   "name": "python",
   "nbconvert_exporter": "python",
   "pygments_lexer": "ipython3",
   "version": "3.8.3"
  }
 },
 "nbformat": 4,
 "nbformat_minor": 4
}
