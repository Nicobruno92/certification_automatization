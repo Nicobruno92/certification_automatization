{
 "cells": [
  {
   "cell_type": "markdown",
   "metadata": {},
   "source": [
    "# Automatization of certifaction process for courses and conferences\n",
    "Author: Nicolás Bruno\n",
    "\n",
    "email: nicobruno92@gmail.com\n",
    "\n",
    "repository: https://github.com/Nicobruno92/certification_automatization"
   ]
  },
  {
   "cell_type": "markdown",
   "metadata": {},
   "source": [
    "## Dependencies\n",
    "Library to have installed:\n",
    "pillow, pandas, email\n",
    "\n",
    "file utils.py in same folder than this script. "
   ]
  },
  {
   "cell_type": "code",
   "execution_count": 1,
   "metadata": {},
   "outputs": [],
   "source": [
    "from utils import send_mail, eliminate_accents, certificate_maker, font_size_by_name\n",
    "\n",
    "import os\n",
    "import pandas as pd"
   ]
  },
  {
   "cell_type": "markdown",
   "metadata": {},
   "source": [
    "## Set path to folders\n",
    "Set the path to the folder containing the necessary files sucha as\n",
    "- the certificate template (always in jpg)   \n",
    "- the student list\n",
    "- font file (if necessary)\n",
    "- folder to save the certificates\n",
    "- etc"
   ]
  },
  {
   "cell_type": "code",
   "execution_count": 2,
   "metadata": {},
   "outputs": [],
   "source": [
    "folder_path = \"Automatization Example\"\n",
    "list_path = os.path.join(folder_path, \"lista_alumnos.xlsx\")\n",
    "\n",
    "certificate_template = os.path.join(folder_path,\"certificate_template.jpg\")\n",
    "font_file = os.path.join(folder_path, \"D-DIN-Bold.ttf\") # an example of an special font\n",
    "\n",
    "certificate_folder =  os.path.join(folder_path, \"Certificates\")\n",
    "if not os.path.exists(os.path.abspath(certificate_folder)):\n",
    "    os.makedirs(os.path.abspath(certificate_folder))"
   ]
  },
  {
   "cell_type": "markdown",
   "metadata": {},
   "source": [
    "## Read list of students\n",
    "Set the name of the columns with student first name, last name and email"
   ]
  },
  {
   "cell_type": "code",
   "execution_count": 14,
   "metadata": {},
   "outputs": [],
   "source": [
    "student_list = pd.read_excel(list_path)  # read excel files\n",
    "\n",
    "\n",
    "email = \"mail\"\n",
    "first_name = \"Nombre\"\n",
    "last_name = \"Apellido\""
   ]
  },
  {
   "cell_type": "markdown",
   "metadata": {},
   "source": [
    "## Set Certificate parameters \n",
    "- Location of the name on the template\n",
    "- Color of the text\n",
    "- Size of the text\n",
    "- Fonts\n",
    "- etc\n",
    "\n",
    "Finally makes a certificate to see if it's ok"
   ]
  },
  {
   "cell_type": "code",
   "execution_count": 4,
   "metadata": {},
   "outputs": [],
   "source": [
    "#basic colors\n",
    "white = '#FFFFFF'\n",
    "black = '#000000'\n",
    "\n",
    "# NT colors\n",
    "grey = \"#21201F\"\n",
    "green = \"#9AC529\"\n",
    "lblue = \"#42B9B2\"\n",
    "pink = \"#DE237B\"\n",
    "orange = \"#F38A31\"\n",
    "\n",
    "text_color = grey\n",
    "\n",
    "location_text = (1920/2, 1080/2)\n",
    "font_size = 63"
   ]
  },
  {
   "cell_type": "code",
   "execution_count": 5,
   "metadata": {},
   "outputs": [],
   "source": [
    "# example certificate\n",
    "certificate_maker(\n",
    "    certificate_template=certificate_template,\n",
    "    student_name=\"Juan Pérez\",\n",
    "    text_color=text_color,\n",
    "    location_text=location_text,\n",
    "    font_name=font_file,\n",
    "    text_size=font_size,\n",
    "    save_path=certificate_folder,\n",
    "    align = 'center'\n",
    ")"
   ]
  },
  {
   "attachments": {},
   "cell_type": "markdown",
   "metadata": {},
   "source": [
    "## Set email parameters\n",
    "\n",
    "For this it is important to use a throaway email. Because security parameters will complicate everything\n",
    "\n",
    "Also since March 2022, in order to access email through third party software as python. You have to create a special password for this purpose.\n",
    "You can follow this tutorial:\n",
    "\n",
    "https://recursospython.com/guias-y-manuales/enviar-correo-electronico-via-gmail-y-smtp/"
   ]
  },
  {
   "cell_type": "code",
   "execution_count": 10,
   "metadata": {},
   "outputs": [],
   "source": [
    "subject = \"Test email automatization of certificates\"\n",
    "sender_email = \"noresponder.neurotransmitiendo@gmail.com\"\n",
    "password = input(\"Type your password and press enter: \")"
   ]
  },
  {
   "cell_type": "markdown",
   "metadata": {},
   "source": [
    "## Email text\n",
    "\n",
    "What it is in {} is what is going to be replaced afterwards by the name inside the loop function in order to personalize it.\n",
    "\n",
    "The text is in HTML. \n",
    "- In order to end a paragraph add a break \"\\<br>\"\n",
    "- \\<b> - <b> Bold text\n",
    "- \\<strong> <strong> - Important text\n",
    "- \\<i><i> - Italic text\n",
    "- \\<em><em> - Emphasized text\n",
    "- \\<mark><mark> - Marked text\n",
    "- \\<del><del> - Deleted text\n",
    "- \\<ins><ins> - Inserted text\n",
    "- \\<sub><sub> - Subscript text\n",
    "- \\<sup><sup> - Superscript text"
   ]
  },
  {
   "cell_type": "code",
   "execution_count": 11,
   "metadata": {},
   "outputs": [],
   "source": [
    "body = \"\"\"\\\n",
    "            <html>\n",
    "              <body>\n",
    "                <p>\n",
    "                    Hi {name},<br>\n",
    "                    How are you doing?<br>\n",
    "                    This email that you are receiving is a test email to try the automatization of \n",
    "                    creating and sending certificates. <br>\n",
    "\n",
    "                    You can visit our website <a href=\"http://www.neurotransmitiendo.org\">here</a>\n",
    "                </p>\n",
    "              </body>\n",
    "            </html>\n",
    "            \"\"\""
   ]
  },
  {
   "cell_type": "markdown",
   "metadata": {},
   "source": [
    "## Send a test email"
   ]
  },
  {
   "cell_type": "code",
   "execution_count": 15,
   "metadata": {},
   "outputs": [],
   "source": [
    "# receiver_email = \"noreply.neurotransmitiendo@gmail.com\"\n",
    "receiver_email = 'nicobruno92@gmail.com'\n",
    "attachment = os.path.join(certificate_folder, \"certificado_\" + \"Juan Perez\" + \".pdf\")\n",
    "\n",
    "send_mail(\n",
    "    sender_email=sender_email,\n",
    "    receiver_email=receiver_email,\n",
    "    password=password,\n",
    "    subject=subject,\n",
    "    body=body,\n",
    "    attachment=attachment,\n",
    ")"
   ]
  },
  {
   "cell_type": "markdown",
   "metadata": {},
   "source": [
    "## Create the certificate for all students in the list."
   ]
  },
  {
   "cell_type": "code",
   "execution_count": 16,
   "metadata": {},
   "outputs": [],
   "source": [
    "for index, row in student_list.iterrows():\n",
    "\n",
    "    # Information from the list\n",
    "    receiver_email = row[email]\n",
    "\n",
    "    full_name = row[first_name] + \" \" + row[last_name]\n",
    "    \n",
    "    #it reduces the size of the font if the name is too long\n",
    "    name_font_size = font_size_by_name(student_name = full_name, max_size = font_size)\n",
    "\n",
    "    # Makes the certificate\n",
    "    certificate_maker(\n",
    "        certificate_template=certificate_template,\n",
    "        student_name=full_name,\n",
    "        text_color=text_color,\n",
    "        location_text=location_text,\n",
    "        font_name= font_file,\n",
    "        text_size=name_font_size,\n",
    "        align = 'center',\n",
    "        save_path=certificate_folder,\n",
    "    )"
   ]
  },
  {
   "cell_type": "markdown",
   "metadata": {},
   "source": [
    "## Send the certificate to all students in the list.\n",
    "\n",
    "# <mark>BE CAREFUL! There is no going back!"
   ]
  },
  {
   "cell_type": "code",
   "execution_count": 17,
   "metadata": {},
   "outputs": [],
   "source": [
    "for index, row in student_list.iterrows():\n",
    "\n",
    "    # Information from the list\n",
    "    receiver_email = row[email]\n",
    "\n",
    "    full_name = row[first_name] + \" \" + row[last_name]\n",
    "\n",
    "    # PRepares email\n",
    "    body_formatted = body.format(name=row[first_name])\n",
    "\n",
    "    attachment = (\n",
    "        os.path.join(certificate_folder, \"certificado_\" + eliminate_accents(full_name) + \".pdf\")\n",
    "    )\n",
    "\n",
    "    # send the email, good luck!\n",
    "    send_mail(\n",
    "        sender_email=sender_email,\n",
    "        receiver_email=receiver_email,\n",
    "        password=password,\n",
    "        subject=subject,\n",
    "        body=body_formatted,\n",
    "        attachment=attachment,\n",
    "    )"
   ]
  }
 ],
 "metadata": {
  "kernelspec": {
   "display_name": "base",
   "language": "python",
   "name": "python3"
  },
  "language_info": {
   "codemirror_mode": {
    "name": "ipython",
    "version": 3
   },
   "file_extension": ".py",
   "mimetype": "text/x-python",
   "name": "python",
   "nbconvert_exporter": "python",
   "pygments_lexer": "ipython3",
   "version": "3.8.8"
  },
  "vscode": {
   "interpreter": {
    "hash": "85bfb4fda6b6346f8eb0b60a56672a689fcee533e5a134e0cbb64ac5c7775566"
   }
  }
 },
 "nbformat": 4,
 "nbformat_minor": 4
}
